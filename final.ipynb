{
 "cells": [
  {
   "cell_type": "markdown",
   "metadata": {},
   "source": [
    "# Final 241"
   ]
  },
  {
   "cell_type": "markdown",
   "metadata": {},
   "source": [
    "# Introduction\n",
    "\n",
    "For this project, we collected 20 different job postings in the field of intelligence analysis and used Python to analyze them based on job title, company, date posted, location, minimum offered salary, minimum required years of experience, required skills, and job duties."
   ]
  },
  {
   "cell_type": "markdown",
   "metadata": {},
   "source": [
    "Data used in this project: <a href= 'finaldata.xlsx'>data</a>"
   ]
  },
  {
   "cell_type": "markdown",
   "metadata": {},
   "source": [
    "# 2.1 What are the common job titles?"
   ]
  },
  {
   "cell_type": "code",
   "execution_count": 37,
   "metadata": {},
   "outputs": [],
   "source": [
    "import xlrd\n",
    "\n",
    "import xlutils"
   ]
  },
  {
   "cell_type": "code",
   "execution_count": 38,
   "metadata": {},
   "outputs": [
    {
     "name": "stdout",
     "output_type": "stream",
     "text": [
      "['Political Analyst', 'Business Intelligence Analyst', 'Business Intelligence Analyst', 'Strategic Planning Analyst - M&A', 'Business Intelligence & Data Analyst', 'Business Intelligence Analyst', 'Analyst', 'Intelligence Analyst', 'Business Intelligence Analyst', 'BI Analyst', 'Analyst', 'Business Intelligence Developer', 'Business Intelligence Analyst', 'Senior Business Intelligence Analyst', 'Business Intelligence Analyst', 'Intel Analyst', 'Business Intelligence Analyst', 'Intelligence Analyst', 'Data Analyst', 'Business Intelligence Analyst']\n",
      "[0.0, 4.0, 1.0, 3.0, 5.0, 5.0, 1.0, 3.0, 3.0, 3.0, 0.0, 2.0, 5.0, 5.0, 5.0, 1.0, 5.0, 0.0, 2.0, 3.0]\n"
     ]
    }
   ],
   "source": [
    "book = xlrd.open_workbook('finaldata.xlsx')\n",
    "\n",
    "\n",
    "sheet= book.sheet_by_name('Sheet1')\n",
    "title_list= []\n",
    "company_list=[]\n",
    "postdate_list=[]\n",
    "location_list=[]\n",
    "salary_list=[]\n",
    "duties_list=[]\n",
    "skills_list=[]\n",
    "experience_list=[]\n",
    "education_list=[]\n",
    "url_list=[]\n",
    "for i in range (sheet.nrows):\n",
    "    title,company,postdate,location,salary,duties,skills,experience,education,url= sheet.row_values(i)\n",
    "    if i !=0:\n",
    "        title_list.append(title)\n",
    "        company_list.append(company)\n",
    "        postdate_list.append(postdate)\n",
    "        location_list.append(location)\n",
    "        salary_list.append(salary)\n",
    "        duties_list.append(duties)\n",
    "        skills_list.append(skills)\n",
    "        experience_list.append(experience)\n",
    "        education_list.append(education)\n",
    "        url_list.append(url)\n",
    "print(title_list)\n",
    "# print(company_list)\n",
    "# print(postdate_list)\n",
    "# print(location_list)\n",
    "# print(salary_list)\n",
    "# print(duties_list)\n",
    "print(experience_list)\n",
    "# print(education_list)\n",
    "# print(url_list)"
   ]
  },
  {
   "cell_type": "code",
   "execution_count": 39,
   "metadata": {},
   "outputs": [
    {
     "name": "stdout",
     "output_type": "stream",
     "text": [
      "dict_keys(['Political Analyst', 'Business Intelligence Analyst', 'Strategic Planning Analyst - M&A', 'Business Intelligence & Data Analyst', 'Analyst', 'Intelligence Analyst', 'BI Analyst', 'Business Intelligence Developer', 'Senior Business Intelligence Analyst', 'Intel Analyst', 'Data Analyst'])\n",
      "dict_values([1, 8, 1, 1, 2, 2, 1, 1, 1, 1, 1])\n"
     ]
    }
   ],
   "source": [
    "from collections import Counter\n",
    "\n",
    "result= Counter(title_list)\n",
    "\n",
    "print(result.keys())\n",
    "print(result.values())"
   ]
  },
  {
   "cell_type": "code",
   "execution_count": 40,
   "metadata": {},
   "outputs": [
    {
     "data": {
      "image/png": "[encoded data removed]",
      "text/plain": [
       "<Figure size 432x288 with 1 Axes>"
      ]
     },
     "metadata": {},
     "output_type": "display_data"
    }
   ],
   "source": [
    "import matplotlib.pyplot as plt \n",
    "\n",
    "plt.pie(result.values(),labels=result.keys())\n",
    "plt.show()"
   ]
  },
  {
   "cell_type": "markdown",
   "metadata": {},
   "source": [
    "As shown in the pie graph, the title of Business Intelligence Analyst is the most common job title in our dataset with 8 of the 20 jobs having that title."
   ]
  },
  {
   "cell_type": "markdown",
   "metadata": {},
   "source": [
    "# 2.2 Which company posted the most number of jobs?"
   ]
  },
  {
   "cell_type": "code",
   "execution_count": 41,
   "metadata": {
    "scrolled": true
   },
   "outputs": [
    {
     "name": "stdout",
     "output_type": "stream",
     "text": [
      "dict_keys(['CIA', 'Verizon', 'Lima One Capital', 'ONIT', 'Signify', 'Loanpal', 'Ntrepid', 'Yes You Can!', 'Arteza', 'Silvercar', 'Cision US', 'Dechert', 'Pivot Interiors', 'Insight Enterprises, Inc.', 'Omnitrans', 'CALIBRE Systems', 'Sojern', 'Athena', 'ISO New England', 'Noble Supply & Logistics'])\n",
      "dict_values([1, 1, 1, 1, 1, 1, 1, 1, 1, 1, 1, 1, 1, 1, 1, 1, 1, 1, 1, 1])\n"
     ]
    }
   ],
   "source": [
    "from collections import Counter\n",
    "\n",
    "result= Counter(company_list)\n",
    "\n",
    "print(result.keys())\n",
    "print(result.values())"
   ]
  },
  {
   "cell_type": "markdown",
   "metadata": {},
   "source": [
    "No company posted more than 1 job. "
   ]
  },
  {
   "cell_type": "markdown",
   "metadata": {},
   "source": [
    "# 2.3 How the number of job posts vary by days?"
   ]
  },
  {
   "cell_type": "code",
   "execution_count": 6,
   "metadata": {
    "scrolled": true
   },
   "outputs": [
    {
     "data": {
      "text/plain": [
       "0    2018-12-16\n",
       "1    2019-03-19\n",
       "2    2019-03-22\n",
       "3    2019-03-23\n",
       "4    2019-03-30\n",
       "5    2019-03-30\n",
       "6    2019-04-02\n",
       "7    2019-04-02\n",
       "8    2019-04-05\n",
       "9    2019-04-06\n",
       "10   2019-04-08\n",
       "11   2019-04-09\n",
       "12   2019-04-09\n",
       "13   2019-04-10\n",
       "14   2019-04-11\n",
       "15   2019-04-11\n",
       "16   2019-04-12\n",
       "17   2019-04-16\n",
       "18   2019-04-16\n",
       "19   2019-04-16\n",
       "Name: Posted Date, dtype: datetime64[ns]"
      ]
     },
     "execution_count": 6,
     "metadata": {},
     "output_type": "execute_result"
    }
   ],
   "source": [
    "import pandas\n",
    "df = pandas.read_excel('finaldata.xlsx')\n",
    "df['Posted Date']"
   ]
  },
  {
   "cell_type": "code",
   "execution_count": 7,
   "metadata": {
    "scrolled": true
   },
   "outputs": [
    {
     "name": "stdout",
     "output_type": "stream",
     "text": [
      "Counter({Timestamp('2019-04-16 00:00:00'): 3, Timestamp('2019-03-30 00:00:00'): 2, Timestamp('2019-04-02 00:00:00'): 2, Timestamp('2019-04-09 00:00:00'): 2, Timestamp('2019-04-11 00:00:00'): 2, Timestamp('2018-12-16 00:00:00'): 1, Timestamp('2019-03-19 00:00:00'): 1, Timestamp('2019-03-22 00:00:00'): 1, Timestamp('2019-03-23 00:00:00'): 1, Timestamp('2019-04-05 00:00:00'): 1, Timestamp('2019-04-06 00:00:00'): 1, Timestamp('2019-04-08 00:00:00'): 1, Timestamp('2019-04-10 00:00:00'): 1, Timestamp('2019-04-12 00:00:00'): 1})\n"
     ]
    }
   ],
   "source": [
    "from collections import Counter\n",
    "\n",
    "result = Counter(df['Posted Date'])\n",
    "\n",
    "print (result)"
   ]
  },
  {
   "cell_type": "code",
   "execution_count": 8,
   "metadata": {
    "scrolled": true
   },
   "outputs": [
    {
     "data": {
      "image/png": "[encoded data removed]",
      "text/plain": [
       "<Figure size 1296x360 with 1 Axes>"
      ]
     },
     "metadata": {},
     "output_type": "display_data"
    }
   ],
   "source": [
    "%matplotlib inline\n",
    "import matplotlib.pyplot as plt\n",
    "\n",
    "from matplotlib.pyplot import figure\n",
    "figure(figsize=(18, 5))\n",
    "\n",
    "plt.plot(result.keys(),result.values())\n",
    "plt.show()"
   ]
  },
  {
   "cell_type": "markdown",
   "metadata": {},
   "source": [
    "We had one outlier with a posting from December 2018, and the rest were significantly more recent, with spikes on 3/30, 4/2, and 4/9, and a larger ending spike on 4/16. Something of interest that we observed is that 4/2, 4/9, and 4/16 are all Tuesdays, which may be random or indicative of some sort of pattern."
   ]
  },
  {
   "cell_type": "markdown",
   "metadata": {},
   "source": [
    "# 2.4 Where are the locations of the jobs?"
   ]
  },
  {
   "cell_type": "code",
   "execution_count": 9,
   "metadata": {},
   "outputs": [
    {
     "name": "stdout",
     "output_type": "stream",
     "text": [
      "dict_keys(['Washington, D.C.', 'New Jersey', 'South Carolinia', 'Texas', 'California', 'Virginia', 'Florida', 'Pennsylvania', 'Arizona', 'Nebraska', 'Massachusetts'])\n",
      "dict_values([1, 2, 1, 2, 3, 3, 3, 1, 1, 1, 2])\n"
     ]
    }
   ],
   "source": [
    "result2= Counter(location_list)\n",
    "\n",
    "print(result2.keys())\n",
    "print(result2.values())"
   ]
  },
  {
   "cell_type": "code",
   "execution_count": 10,
   "metadata": {
    "scrolled": false
   },
   "outputs": [
    {
     "data": {
      "image/png": "[encoded data removed]",
      "text/plain": [
       "<Figure size 432x288 with 1 Axes>"
      ]
     },
     "metadata": {},
     "output_type": "display_data"
    }
   ],
   "source": [
    "import matplotlib.pyplot as plt \n",
    "\n",
    "plt.pie(result2.values(),labels=result2.keys())\n",
    "plt.show()"
   ]
  },
  {
   "cell_type": "markdown",
   "metadata": {},
   "source": [
    "The three most popular locations for the job postings in our dataset are California, Florida, and Virginia shown by the pie chart that we created."
   ]
  },
  {
   "cell_type": "markdown",
   "metadata": {},
   "source": [
    "# 2.5 What is the average minimal salary?"
   ]
  },
  {
   "cell_type": "code",
   "execution_count": 11,
   "metadata": {},
   "outputs": [],
   "source": [
    "import numpy as np"
   ]
  },
  {
   "cell_type": "code",
   "execution_count": 12,
   "metadata": {
    "scrolled": true
   },
   "outputs": [
    {
     "name": "stdout",
     "output_type": "stream",
     "text": [
      "average minimum salary is 58661.6\n"
     ]
    }
   ],
   "source": [
    "print ('average minimum salary is {}'.format(np.mean(salary_list)))"
   ]
  },
  {
   "cell_type": "markdown",
   "metadata": {},
   "source": [
    "# 2.6 What is the average minimal years of experience?"
   ]
  },
  {
   "cell_type": "code",
   "execution_count": 13,
   "metadata": {
    "scrolled": true
   },
   "outputs": [
    {
     "name": "stdout",
     "output_type": "stream",
     "text": [
      "average minimum experience is 2.8 years in the field\n"
     ]
    }
   ],
   "source": [
    "print ('average minimum experience is {} years in the field'.format(np.mean(experience_list)))"
   ]
  },
  {
   "cell_type": "markdown",
   "metadata": {},
   "source": [
    "# 2.7 How are the years of experience related to the salaries?"
   ]
  },
  {
   "cell_type": "code",
   "execution_count": 14,
   "metadata": {
    "scrolled": true
   },
   "outputs": [
    {
     "data": {
      "image/png": "[encoded data removed]",
      "text/plain": [
       "<Figure size 432x288 with 1 Axes>"
      ]
     },
     "metadata": {},
     "output_type": "display_data"
    }
   ],
   "source": [
    "plt.scatter(salary_list, experience_list)\n",
    "plt.show()"
   ]
  },
  {
   "cell_type": "code",
   "execution_count": 15,
   "metadata": {},
   "outputs": [
    {
     "name": "stdout",
     "output_type": "stream",
     "text": [
      "the cor between salary and experience is 0.4650228175656201\n"
     ]
    }
   ],
   "source": [
    "print (\"the cor between salary and experience is {}\".format(np.corrcoef(salary_list,experience_list)[0][1]))"
   ]
  },
  {
   "cell_type": "markdown",
   "metadata": {},
   "source": [
    "The correlation coefficient of years of experience related to minimum salary is 0.465, meaning that there is a somewhat weak positive correlation between these two variables. This correlation may have been stronger if we had a larger, more diverse dataset."
   ]
  },
  {
   "cell_type": "markdown",
   "metadata": {},
   "source": [
    "# 2.8 What are the common job duties?"
   ]
  },
  {
   "cell_type": "code",
   "execution_count": 16,
   "metadata": {
    "scrolled": false
   },
   "outputs": [
    {
     "name": "stdout",
     "output_type": "stream",
     "text": [
      "Support policymakers by producing and delivering written and oral assessments of the domestic politics, foreign policy, stability, and social issues of foreign governments and entities\n",
      "Analyze results, Support high-priority projects in the CX space with impactful reporting and analysis, Manage Key Vendor relationships\n",
      "Create and support ETL jobs pulling data from various source systems and loading into the data warehouse, Conduct analysis across multiple data sources to identify key insights\n",
      "Conduct external research and develop strategies for identifying and evaluating target markets and companies to support Onit’s growth plans\n",
      "Perform planning, implementation and analysis activities for sales operations reporting toolset and insight generation in Americas\n",
      "Conduct analyses of functional business processes and functional business requirements and participate in the development of business cases in the support of process changes and/or IT projects. Create models and data sets that lead directly to improvement in business processes or policies\n",
      "Conduct independent, detailed research and analysis on client and corporate-driven initiatives and develop professional-level written products\n",
      "Generate on-going statistical reports, data investigations, “what-if” modeling and analyses for Management to support critical decisions related to the overall company, Develop logic, build from scratch and maintain distributor analytical reports (both ad-hoc and scheduled) using advanced structured query language and a dashboard tool strategy\n",
      "Institute new policies, procedures, programs, and process several different types of data\n",
      "Provide technical support for and hands on experience in BI, analytics, ETL, data warehousing and reporting\n",
      "Use software to perform analysis and report findings\n",
      "Business analytics, analytical modeling, project management\n",
      "Creates integrated & scheduled reports within Power BI and Dynamics 365 for the Finance and Operations departments, Independently evaluates SQL code and reports for optimization, Assists in developing and maintaining data models and metadata documentation\n",
      "Designing, developing, and deploying BI solutions using Microsoft BI technologies, Analyzing new / disparate data sources to integrate with existing datasets to tell a comprehensive BI story, Analyzing new / disparate data sources to integrate with existing datasets to tell a comprehensive BI story  \n",
      "\n",
      "\n",
      "Coordinates and performs professional-level analytical, administrative and programmatic work in such areas as transit planning, financial administration and reporting, operational data and reporting and data management\n",
      "Organizes, analyzes, and develops reliable intelligence products necessary to aid situational understanding, support the development of plans and orders, and answer information requirements that have immediate or potential impact on the client’s global intelligence operations, personnel and capabilities, and enhance situational understanding.\n",
      "Design and build financial solutions for analytic and application purposes within BigQuery, Google's Enterprise Cloud Data Warehouse, Drive data governance conversations including, but not limited to data cleanliness, metric definition, and accurate aggregations\n",
      "Research and analysis of confidential intelligence and investigative information relating to criminal activity to enhance the effectiveness of law enforcement\n",
      "Work with business users to understand their data analysis needs, provide solutions to meet those needs, be the primary contact person for user support issues, train the users, and develop and support data analytics platform\n",
      "Developing, analyzing, and modifying processes, data structures, and models, Making data-driven decisions and recommendations\n"
     ]
    }
   ],
   "source": [
    "for duty in df['Job Duty']:\n",
    "    print (duty)"
   ]
  },
  {
   "cell_type": "code",
   "execution_count": 21,
   "metadata": {},
   "outputs": [
    {
     "name": "stdout",
     "output_type": "stream",
     "text": [
      "Developing, analyzing, and modifying processes, data structures, and models, Making data-driven decisions and recommendationsWork with business users to understand their data analysis needs, provide solutions to meet those needs, be the primary contact person for user support issues, train the users, and develop and support data analytics platformResearch and analysis of confidential intelligence and investigative information relating to criminal activity to enhance the effectiveness of law enforcementDesign and build financial solutions for analytic and application purposes within BigQuery, Google's Enterprise Cloud Data Warehouse, Drive data governance conversations including, but not limited to data cleanliness, metric definition, and accurate aggregationsOrganizes, analyzes, and develops reliable intelligence products necessary to aid situational understanding, support the development of plans and orders, and answer information requirements that have immediate or potential impact on the client’s global intelligence operations, personnel and capabilities, and enhance situational understanding.Coordinates and performs professional-level analytical, administrative and programmatic work in such areas as transit planning, financial administration and reporting, operational data and reporting and data managementDesigning, developing, and deploying BI solutions using Microsoft BI technologies, Analyzing new / disparate data sources to integrate with existing datasets to tell a comprehensive BI story, Analyzing new / disparate data sources to integrate with existing datasets to tell a comprehensive BI story  \n",
      "\n",
      "Creates integrated & scheduled reports within Power BI and Dynamics 365 for the Finance and Operations departments, Independently evaluates SQL code and reports for optimization, Assists in developing and maintaining data models and metadata documentationBusiness analytics, analytical modeling, project managementUse software to perform analysis and report findingsProvide technical support for and hands on experience in BI, analytics, ETL, data warehousing and reportingInstitute new policies, procedures, programs, and process several different types of dataGenerate on-going statistical reports, data investigations, “what-if” modeling and analyses for Management to support critical decisions related to the overall company, Develop logic, build from scratch and maintain distributor analytical reports (both ad-hoc and scheduled) using advanced structured query language and a dashboard tool strategyConduct independent, detailed research and analysis on client and corporate-driven initiatives and develop professional-level written productsConduct analyses of functional business processes and functional business requirements and participate in the development of business cases in the support of process changes and/or IT projects. Create models and data sets that lead directly to improvement in business processes or policiesPerform planning, implementation and analysis activities for sales operations reporting toolset and insight generation in AmericasConduct external research and develop strategies for identifying and evaluating target markets and companies to support Onit’s growth plansCreate and support ETL jobs pulling data from various source systems and loading into the data warehouse, Conduct analysis across multiple data sources to identify key insightsAnalyze results, Support high-priority projects in the CX space with impactful reporting and analysis, Manage Key Vendor relationshipsSupport policymakers by producing and delivering written and oral assessments of the domestic politics, foreign policy, stability, and social issues of foreign governments and entities\n"
     ]
    }
   ],
   "source": [
    "duties =''\n",
    "for duty in df['Job Duty']:\n",
    "    duties = duty + duties\n",
    "print (duties)"
   ]
  },
  {
   "cell_type": "code",
   "execution_count": 22,
   "metadata": {},
   "outputs": [],
   "source": [
    "import xlwt        \n",
    "\n",
    "from collections import Counter        \n",
    "\n",
    "from nltk.corpus import stopwords\n",
    "\n",
    "stop = set(stopwords.words('english'))\n",
    "\n",
    "  \n",
    "\n",
    "book = xlwt.Workbook() # create a new excel file\n",
    "\n",
    "sheet_test = book.add_sheet('word_count') # add a new sheet\n",
    "\n",
    "i = 0\n",
    "\n",
    "sheet_test.write(i,0,'word') # write the header of the first column\n",
    "\n",
    "sheet_test.write(i,1,'count') # write the header of the second column\n",
    "\n",
    "sheet_test.write(i,2,'ratio') # write the header of the third column\n",
    "    "
   ]
  },
  {
   "cell_type": "code",
   "execution_count": 25,
   "metadata": {},
   "outputs": [],
   "source": [
    "word_list = [i for i in duties.lower().split() if i not in stop]\n",
    "\n",
    "word_total = word_list.__len__()\n",
    "\n",
    "\n",
    "\n",
    "count_result =  Counter(word_list)\n",
    "\n",
    "for result in count_result.most_common(20):\n",
    "\n",
    "    i = i+1 \n",
    "\n",
    "    sheet_test.write(i,0,result[0])\n",
    "\n",
    "    sheet_test.write(i,1,result[1])\n",
    "\n",
    "    sheet_test.write(i,2,(result[1]/word_total))\n",
    "\n",
    "    \n",
    "\n",
    "book.save('duties.xls')# define the location of your excel file"
   ]
  },
  {
   "cell_type": "markdown",
   "metadata": {},
   "source": [
    "<img src=\"duties1.jpg\"> "
   ]
  },
  {
   "cell_type": "markdown",
   "metadata": {},
   "source": [
    "The most prevalent words used to describe job duties in the postings that we collected are data, support, and analysis."
   ]
  },
  {
   "cell_type": "markdown",
   "metadata": {},
   "source": [
    "# 2.9 What are the common skills? "
   ]
  },
  {
   "cell_type": "code",
   "execution_count": 32,
   "metadata": {},
   "outputs": [
    {
     "name": "stdout",
     "output_type": "stream",
     "text": [
      "Excellent computer skills, including Microsoft Office, Databases, Web-Based Applications, Excellent attention to detail and an aptitude for working with dataExperience working with Business Users gathering Business Requirements gathering and/or testing of analytics platform; strong written and verbal communication skillsBe proficient in the use of computer software such as Microsoft Office Suite, Adobe Acrobat and GIS applicationsAdvanced Data Analysis: Advanced SQL query capabilities. Experience in data analysis and relational database design in addition to using advanced SQL, Analytical & Critical Thinking: Ability to analyze information, compare, contrast, trend data and draw conclusions. Using logic and reasoning to identify strengths and weaknesses of solutionsAbility to prepare and deliver technical and non-technical information and instructional briefings and other training to team members and government personnel.Ability to research, compile and analyze complex data and form sound conclusions; recognize internal and external risk factors and develop effective solutions; understand, interpret and apply labor contracts, laws and regulations; optimize time and efficiency while managing multiple priorities; prepare complex narrative and statistical reports; direct teams in diverse roles with varying degrees and levels of experience.strong technical skills with business acumen and effective communication skillsExperience with report UX design, SSAS and SSIS development, Power BI, Microsoft Dynamics 365, ETL development, Ability to independently research and solve complex technical challengesAdvanced exploratory data analysis skills, Ability to query unstructured data and build data models, Analytical and problem solving skillsExcellent computer skills and comfort learning advanced technical tools.Experience with ETL processes, data warehousing or building out data pipelinesStrong analytical, quantitative, problem solving, and organizational skills and ability to coordinate multiple tasks, set priorities, and meet deadlinesAdvanced Excel skills of pivot tables, macros, VBA, v-lookup, and report writing to analyze data and consolidate reports Proficiency with MS Excel, MS Word, PowerPoint and Visio Programming skill: SQL Strong analytical skills to evaluate, understand and interpret data from both internal and external perspectiveAbility to develop research ideas into viable proofs of concept or into reports and briefings with practical takeaways for clientsData-Visualization experience (D3.js, Javascript, Node.js), Outstanding verbal and written communication to both non-technical and executive audiencesStrong process re-engineer skills with the ability to address and influence audiences at all levelsHighly proficient in PC skills including Excel spreadsheets, PowerPoint, financial modelingWorking understanding of dimensional data modeling, Relational database knowledge: SQL, T-SQLcorporate marketing, market research, pulling, manipulating and tabulating dataStrong critical thinking and problem solving skills\n"
     ]
    }
   ],
   "source": [
    "skills =''\n",
    "for skill in df['Required Skills']:\n",
    "    skills = skill + skills\n",
    "print (skills)"
   ]
  },
  {
   "cell_type": "code",
   "execution_count": 34,
   "metadata": {},
   "outputs": [],
   "source": [
    "\n",
    "import xlwt        \n",
    "\n",
    "from collections import Counter        \n",
    "\n",
    "from nltk.corpus import stopwords\n",
    "\n",
    "stop = set(stopwords.words('english'))\n",
    "\n",
    "  \n",
    "\n",
    "book = xlwt.Workbook() # create a new excel file\n",
    "\n",
    "sheet_test = book.add_sheet('word_count') # add a new sheet\n",
    "\n",
    "i = 0\n",
    "\n",
    "sheet_test.write(i,0,'word') # write the header of the first column\n",
    "\n",
    "sheet_test.write(i,1,'count') # write the header of the second column\n",
    "\n",
    "sheet_test.write(i,2,'ratio') # write the header of the third column"
   ]
  },
  {
   "cell_type": "code",
   "execution_count": 35,
   "metadata": {},
   "outputs": [],
   "source": [
    "word_list = [i for i in skills.lower().split() if i not in stop]\n",
    "\n",
    "word_total = word_list.__len__()\n",
    "\n",
    "\n",
    "\n",
    "count_result =  Counter(word_list)\n",
    "\n",
    "for result in count_result.most_common(20):\n",
    "\n",
    "    i = i+1 \n",
    "\n",
    "    sheet_test.write(i,0,result[0])\n",
    "\n",
    "    sheet_test.write(i,1,result[1])\n",
    "\n",
    "    sheet_test.write(i,2,(result[1]/word_total))\n",
    "\n",
    "    \n",
    "\n",
    "book.save('skills.xls')# define the location of your excel file"
   ]
  },
  {
   "cell_type": "markdown",
   "metadata": {},
   "source": [
    "<img src=\"skills1.jpg\"> "
   ]
  },
  {
   "cell_type": "markdown",
   "metadata": {},
   "source": [
    "The most prevalent words used to describe required skills are data, ability, and skills."
   ]
  },
  {
   "cell_type": "markdown",
   "metadata": {},
   "source": [
    "# Conclusion"
   ]
  },
  {
   "cell_type": "markdown",
   "metadata": {},
   "source": [
    "By using Python to create visualizations for our data, we were able to more fully understand and clearly communicate possible patterns in the dataset. We can use the information that we gained through this project to understand the types of opportunities available in the intelligence field and skills that analysts should have in order to be marketable and successful. Some of the patterns that we identified in this project may not be correct on a larger scale because our sampled dataset was relatively small. Our results could be improved by collecting and analyzing more data on job postings in the intelligence field."
   ]
  }
 ],
 "metadata": {
  "kernelspec": {
   "display_name": "Python 3",
   "language": "python",
   "name": "python3"
  },
  "language_info": {
   "codemirror_mode": {
    "name": "ipython",
    "version": 3
   },
   "file_extension": ".py",
   "mimetype": "text/x-python",
   "name": "python",
   "nbconvert_exporter": "python",
   "pygments_lexer": "ipython3",
   "version": "3.6.5"
  }
 },
 "nbformat": 4,
 "nbformat_minor": 2
}
