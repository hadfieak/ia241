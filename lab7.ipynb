{
 "cells": [
  {
   "cell_type": "markdown",
   "metadata": {},
   "source": [
    "# Q1"
   ]
  },
  {
   "cell_type": "markdown",
   "metadata": {},
   "source": [
    "Company: BKM Global\n",
    "Description: All Source Intelligence Analyst\n",
    "[job website](https://www.indeed.com/cmp/BKM-Global/jobs/Source-Intelligence-Analyst-6eac391d8480aacc?sjdu=QwrRXKrqZ3CNX5W-O9jEvcNhwEKHKHX3Srp-fHgjyrSS_imHCY_TxGog3fO2P09Yph0I6U8JFmEWqef3T6kIjZ9BW4a0kwa3_EQmi3QXqe5pkKkELpZLUVrpIRlt6y2v&tk=1d5ummt6ra2lc802&adid=269828262&vjs=) "
   ]
  },
  {
   "cell_type": "markdown",
   "metadata": {},
   "source": [
    "# Q2"
   ]
  },
  {
   "cell_type": "code",
   "execution_count": 3,
   "metadata": {},
   "outputs": [
    {
     "name": "stdout",
     "output_type": "stream",
     "text": [
      "Job Title: All-Source Intelligence Analyst\n",
      "\n",
      "Work Location: Afghanistan, Iraq, and Kuwait, 12-month deployment\n",
      "\n",
      "Security Clearance: Active Top Secret with SCI Eligibility\n",
      "Skills and Qualifications:\n",
      "Education – Associates Degree OR four years direct relevant intelligence analyst experience PLUS\n",
      "Experience – Four (4) years analytical experience at the tactical/operational level within DoD or equivalent Government agencies and requires former MOS 35F, 350F, 18F, 35D, 34A, or equivalent such as USMC – 0204, 0210, 0211 - Counterintelligence/Human Intelligence (CI/HUMINT) Specialist, 0231 Intelligence Specialist, U.S. Navy – Navy Intelligence Specialist, USAF 1N7X1 Human Intelligence Specialist, 1N4X1 Intelligence Fusion Analyst\n",
      "Special skills or qualifications (all required)\n",
      "Proficient in utilizing standard computer applications and intelligence related automation to support analytical efforts and product development\n",
      "Requires submission of an unclassified analytical writing sample on Afghanistan, Iraq, Pakistan, Iran, Al Qaeda, the Taliban, the Haqqani Network, ISIS, or the HIG (250 word minimum) with resume\n",
      "Possess strong research, analytical, and writing skills\n",
      "Capable of effectively operating as a member of an analytical team from a remote location in support of CJOA requirements\n",
      "Proven briefing skills\n",
      "Desired Skills\n",
      "Education – Bachelor’s Degree\n",
      "Deployed experience in either Afghanistan, Iraq/SWA regional issues and/or HUMINT, CI, CT or military analysis\n",
      "Job Type: Full-time\n",
      "\n",
      "Experience:\n",
      "Intelligence Analysis: 4 years (Required)\n",
      "\n",
      "Education:\n",
      "Associate (Preferred)\n"
     ]
    }
   ],
   "source": [
    "job = open ('C:\\\\Users\\\\hadfieak\\\\OneDrive - James Madison University (Dukes)\\\\IA 241\\\\lab 7\\\\job.txt','r')\n",
    "print (job.read())"
   ]
  },
  {
   "cell_type": "code",
   "execution_count": 5,
   "metadata": {},
   "outputs": [
    {
     "name": "stdout",
     "output_type": "stream",
     "text": [
      "word: Intelligence\n",
      "count: 7\n",
      "word: and\n",
      "count: 6\n",
      "word: –\n",
      "count: 5\n",
      "word: or\n",
      "count: 5\n",
      "word: analytical\n",
      "count: 4\n",
      "word: the\n",
      "count: 4\n",
      "word: Specialist,\n",
      "count: 4\n",
      "word: of\n",
      "count: 4\n",
      "word: Afghanistan,\n",
      "count: 3\n",
      "word: years\n",
      "count: 3\n",
      "word: experience\n",
      "count: 3\n",
      "word: skills\n",
      "count: 3\n",
      "word: in\n",
      "count: 3\n",
      "word: Job\n",
      "count: 2\n",
      "word: Analyst\n",
      "count: 2\n",
      "word: Iraq,\n",
      "count: 2\n",
      "word: with\n",
      "count: 2\n",
      "word: Skills\n",
      "count: 2\n",
      "word: Education\n",
      "count: 2\n",
      "word: Degree\n",
      "count: 2\n"
     ]
    }
   ],
   "source": [
    "from collections import Counter\n",
    "with open ('C:\\\\Users\\\\hadfieak\\\\OneDrive - James Madison University (Dukes)\\\\IA 241\\\\lab 7\\\\job.txt','r') as job:\n",
    "    count_result = Counter (job.read().split())\n",
    "    for result in count_result.most_common(20):\n",
    "        print ('word:',result[0])\n",
    "        print ('count:',result[1])"
   ]
  },
  {
   "cell_type": "markdown",
   "metadata": {},
   "source": [
    "# Q3"
   ]
  },
  {
   "cell_type": "code",
   "execution_count": 9,
   "metadata": {},
   "outputs": [],
   "source": [
    "import xlwt\n",
    "from collections import Counter\n",
    "\n",
    "book = xlwt.Workbook()\n",
    "sheet_test = book.add_sheet('word count')\n",
    "i=0\n",
    "sheet_test.write(i,0,'word')\n",
    "sheet_test.write(i,1,'count')\n",
    "\n",
    "with open('C:\\\\Users\\\\hadfieak\\\\OneDrive - James Madison University (Dukes)\\\\IA 241\\\\lab 7\\\\job.txt','r') as job:\n",
    "    count_result= Counter(job.read().split())\n",
    "    for result in count_result.most_common(20):\n",
    "        i=  i+1\n",
    "        sheet_test.write(i,0,result[0])\n",
    "        sheet_test.write(i,1,result[1])\n",
    "        \n",
    "book.save('job.xls')"
   ]
  },
  {
   "cell_type": "markdown",
   "metadata": {},
   "source": [
    "# Q4"
   ]
  },
  {
   "cell_type": "code",
   "execution_count": 19,
   "metadata": {},
   "outputs": [
    {
     "ename": "XLRDError",
     "evalue": "No sheet named <'job'>",
     "output_type": "error",
     "traceback": [
      "\u001b[1;31m---------------------------------------------------------------------------\u001b[0m",
      "\u001b[1;31mValueError\u001b[0m                                Traceback (most recent call last)",
      "\u001b[1;32mC:\\ProgramData\\Anaconda3\\lib\\site-packages\\xlrd\\book.py\u001b[0m in \u001b[0;36msheet_by_name\u001b[1;34m(self, sheet_name)\u001b[0m\n\u001b[0;32m    469\u001b[0m         \u001b[1;32mtry\u001b[0m\u001b[1;33m:\u001b[0m\u001b[1;33m\u001b[0m\u001b[0m\n\u001b[1;32m--> 470\u001b[1;33m             \u001b[0msheetx\u001b[0m \u001b[1;33m=\u001b[0m \u001b[0mself\u001b[0m\u001b[1;33m.\u001b[0m\u001b[0m_sheet_names\u001b[0m\u001b[1;33m.\u001b[0m\u001b[0mindex\u001b[0m\u001b[1;33m(\u001b[0m\u001b[0msheet_name\u001b[0m\u001b[1;33m)\u001b[0m\u001b[1;33m\u001b[0m\u001b[0m\n\u001b[0m\u001b[0;32m    471\u001b[0m         \u001b[1;32mexcept\u001b[0m \u001b[0mValueError\u001b[0m\u001b[1;33m:\u001b[0m\u001b[1;33m\u001b[0m\u001b[0m\n",
      "\u001b[1;31mValueError\u001b[0m: 'job' is not in list",
      "\nDuring handling of the above exception, another exception occurred:\n",
      "\u001b[1;31mXLRDError\u001b[0m                                 Traceback (most recent call last)",
      "\u001b[1;32m<ipython-input-19-dcd234ba2c39>\u001b[0m in \u001b[0;36m<module>\u001b[1;34m()\u001b[0m\n\u001b[0;32m      1\u001b[0m \u001b[1;32mimport\u001b[0m \u001b[0mxlrd\u001b[0m\u001b[1;33m\u001b[0m\u001b[0m\n\u001b[0;32m      2\u001b[0m \u001b[0mmy_book\u001b[0m \u001b[1;33m=\u001b[0m \u001b[0mxlrd\u001b[0m\u001b[1;33m.\u001b[0m\u001b[0mopen_workbook\u001b[0m\u001b[1;33m(\u001b[0m\u001b[1;34m'job.xls'\u001b[0m\u001b[1;33m)\u001b[0m\u001b[1;33m\u001b[0m\u001b[0m\n\u001b[1;32m----> 3\u001b[1;33m \u001b[0mmy_sheet\u001b[0m\u001b[1;33m=\u001b[0m\u001b[0mmy_book\u001b[0m\u001b[1;33m.\u001b[0m\u001b[0msheet_by_name\u001b[0m\u001b[1;33m(\u001b[0m\u001b[1;34m\"job\"\u001b[0m\u001b[1;33m)\u001b[0m\u001b[1;33m\u001b[0m\u001b[0m\n\u001b[0m\u001b[0;32m      4\u001b[0m \u001b[1;32mfor\u001b[0m \u001b[0mi\u001b[0m \u001b[1;32min\u001b[0m \u001b[0mrange\u001b[0m \u001b[1;33m(\u001b[0m\u001b[0mmy_sheet\u001b[0m\u001b[1;33m.\u001b[0m\u001b[0mnrows\u001b[0m\u001b[1;33m)\u001b[0m\u001b[1;33m:\u001b[0m\u001b[1;33m\u001b[0m\u001b[0m\n\u001b[0;32m      5\u001b[0m     \u001b[0mrow\u001b[0m \u001b[1;33m=\u001b[0m \u001b[0mmy_sheet\u001b[0m\u001b[1;33m.\u001b[0m\u001b[0mrow_values\u001b[0m\u001b[1;33m(\u001b[0m\u001b[0mi\u001b[0m\u001b[1;33m)\u001b[0m\u001b[1;33m\u001b[0m\u001b[0m\n",
      "\u001b[1;32mC:\\ProgramData\\Anaconda3\\lib\\site-packages\\xlrd\\book.py\u001b[0m in \u001b[0;36msheet_by_name\u001b[1;34m(self, sheet_name)\u001b[0m\n\u001b[0;32m    470\u001b[0m             \u001b[0msheetx\u001b[0m \u001b[1;33m=\u001b[0m \u001b[0mself\u001b[0m\u001b[1;33m.\u001b[0m\u001b[0m_sheet_names\u001b[0m\u001b[1;33m.\u001b[0m\u001b[0mindex\u001b[0m\u001b[1;33m(\u001b[0m\u001b[0msheet_name\u001b[0m\u001b[1;33m)\u001b[0m\u001b[1;33m\u001b[0m\u001b[0m\n\u001b[0;32m    471\u001b[0m         \u001b[1;32mexcept\u001b[0m \u001b[0mValueError\u001b[0m\u001b[1;33m:\u001b[0m\u001b[1;33m\u001b[0m\u001b[0m\n\u001b[1;32m--> 472\u001b[1;33m             \u001b[1;32mraise\u001b[0m \u001b[0mXLRDError\u001b[0m\u001b[1;33m(\u001b[0m\u001b[1;34m'No sheet named <%r>'\u001b[0m \u001b[1;33m%\u001b[0m \u001b[0msheet_name\u001b[0m\u001b[1;33m)\u001b[0m\u001b[1;33m\u001b[0m\u001b[0m\n\u001b[0m\u001b[0;32m    473\u001b[0m         \u001b[1;32mreturn\u001b[0m \u001b[0mself\u001b[0m\u001b[1;33m.\u001b[0m\u001b[0msheet_by_index\u001b[0m\u001b[1;33m(\u001b[0m\u001b[0msheetx\u001b[0m\u001b[1;33m)\u001b[0m\u001b[1;33m\u001b[0m\u001b[0m\n\u001b[0;32m    474\u001b[0m \u001b[1;33m\u001b[0m\u001b[0m\n",
      "\u001b[1;31mXLRDError\u001b[0m: No sheet named <'job'>"
     ]
    }
   ],
   "source": [
    "import xlrd\n",
    "my_book = xlrd.open_workbook('job.xls')\n",
    "my_sheet=my_book.sheet_by_name(\"job\") \n",
    "for i in range (my_sheet.nrows):\n",
    "    row = my_sheet.row_values(i)\n",
    "    word, count=row\n",
    "    print (word, count)"
   ]
  },
  {
   "cell_type": "markdown",
   "metadata": {},
   "source": [
    "# Q5 "
   ]
  },
  {
   "cell_type": "markdown",
   "metadata": {},
   "source": [
    "<img src= 'wordcloud.jpg'>"
   ]
  },
  {
   "cell_type": "markdown",
   "metadata": {},
   "source": []
  },
  {
   "cell_type": "code",
   "execution_count": null,
   "metadata": {},
   "outputs": [],
   "source": []
  }
 ],
 "metadata": {
  "kernelspec": {
   "display_name": "Python 3",
   "language": "python",
   "name": "python3"
  },
  "language_info": {
   "codemirror_mode": {
    "name": "ipython",
    "version": 3
   },
   "file_extension": ".py",
   "mimetype": "text/x-python",
   "name": "python",
   "nbconvert_exporter": "python",
   "pygments_lexer": "ipython3",
   "version": "3.6.5"
  }
 },
 "nbformat": 4,
 "nbformat_minor": 2
}
