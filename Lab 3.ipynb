{
 "cells": [
  {
   "cell_type": "markdown",
   "metadata": {},
   "source": [
    "# Q1 "
   ]
  },
  {
   "cell_type": "code",
   "execution_count": 6,
   "metadata": {},
   "outputs": [
    {
     "name": "stdout",
     "output_type": "stream",
     "text": [
      "[12, 32, 35, 43]\n",
      "12\n",
      "43\n"
     ]
    }
   ],
   "source": [
    "num_list=[12,32,43,35]\n",
    "num_list.sort ()\n",
    "print (num_list)\n",
    "print (num_list[0])\n",
    "print (num_list[-1])"
   ]
  },
  {
   "cell_type": "markdown",
   "metadata": {},
   "source": [
    "# Q2"
   ]
  },
  {
   "cell_type": "code",
   "execution_count": 20,
   "metadata": {},
   "outputs": [
    {
     "name": "stdout",
     "output_type": "stream",
     "text": [
      "6\n"
     ]
    }
   ],
   "source": [
    "print(len(\"this is my first python lab.\".split()))"
   ]
  },
  {
   "cell_type": "markdown",
   "metadata": {},
   "source": [
    "# Q3"
   ]
  },
  {
   "cell_type": "code",
   "execution_count": 28,
   "metadata": {},
   "outputs": [
    {
     "name": "stdout",
     "output_type": "stream",
     "text": [
      "9\n"
     ]
    }
   ],
   "source": [
    "my_list=['a', '123', 123, 'b', 'B', 'False', False, 123, None, 'none']\n",
    "print (len(set(my_list)))"
   ]
  },
  {
   "cell_type": "markdown",
   "metadata": {},
   "source": [
    "# Q4"
   ]
  },
  {
   "cell_type": "code",
   "execution_count": 54,
   "metadata": {},
   "outputs": [
    {
     "name": "stdout",
     "output_type": "stream",
     "text": [
      "{'favorite_count': 1138, 'lang': 'ch', 'coordinates': (-75.14310264, 40.05701649), 'visited_countries': ['GR', 'HK', 'MY']}\n",
      "{'favorite_count': 1138, 'lang': 'en', 'coordinates': (-75.14310264, 40.05701649), 'visited_countries': ['GR', 'HK', 'MY']}\n",
      "3\n",
      "{'favorite_count': 1138, 'lang': 'en', 'coordinates': (-75.14310264, 40.05701649), 'visited_countries': ['GR', 'HK', 'MY', 'CH']}\n",
      "False\n",
      "-75.14310264\n"
     ]
    }
   ],
   "source": [
    "my_dict= {\n",
    "    \"favorite_count\":1138,\n",
    "    \"lang\": \"ch\",\n",
    "    \"coordinates\": (-75.14310264, 40.05701649),\n",
    "    \"visited_countries\": [\"GR\", \"HK\", \"MY\"]\n",
    "    }\n",
    "print (my_dict)\n",
    "my_dict['lang']='en'\n",
    "print (my_dict)\n",
    "print (len(my_dict[\"visited_countries\"]))\n",
    "my_dict[\"visited_countries\"].append('CH')\n",
    "print (my_dict)\n",
    "print ('US' in my_dict[\"visited_countries\"])\n",
    "print (my_dict[\"coordinates\"][0])"
   ]
  },
  {
   "cell_type": "markdown",
   "metadata": {},
   "source": [
    "4.6 it can be changed if you change the entire tuple, but single values cannot be changed within the tuple."
   ]
  }
 ],
 "metadata": {
  "kernelspec": {
   "display_name": "Python 3",
   "language": "python",
   "name": "python3"
  },
  "language_info": {
   "codemirror_mode": {
    "name": "ipython",
    "version": 3
   },
   "file_extension": ".py",
   "mimetype": "text/x-python",
   "name": "python",
   "nbconvert_exporter": "python",
   "pygments_lexer": "ipython3",
   "version": "3.6.5"
  }
 },
 "nbformat": 4,
 "nbformat_minor": 2
}
