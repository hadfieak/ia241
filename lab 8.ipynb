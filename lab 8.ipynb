{
 "cells": [
  {
   "cell_type": "markdown",
   "metadata": {},
   "source": [
    "# Q1"
   ]
  },
  {
   "cell_type": "markdown",
   "metadata": {},
   "source": [
    "# Job 1"
   ]
  },
  {
   "cell_type": "markdown",
   "metadata": {},
   "source": [
    "Company: US Navy \n",
    "Description: Military Intelligence [website](https://www.indeed.com/viewjob?jk=bd0a4a08298785d5&tk=1d6gmrupg19nl000&from=serp&vjs=3&advn=8445597057960136&adid=56859351&sjdu=teYnAu8OgCGxABCwWD3OBOiAcEeKSUp7naxf3phkoFIfkJ6DnPH2TVk2TXh7yEp0zJFFcLWRXPCsW1oW9nb8n64QoZKSxz-H2hNLfGm-6Dalv3aVffDDSucDfbXLlwK1RJx09fHyu0-PY5aBfbJCAfrgRiFkWrnDWLtrkboVjThwBSWNZTABVxr04PMtox0LcWcSyHvCEF88AcXMnEN0TqyfiHuR23aUB8n8XvnpHhw0Nm_SJd9fWSAsMFSKnXIb)"
   ]
  },
  {
   "cell_type": "markdown",
   "metadata": {},
   "source": [
    "# Job 2"
   ]
  },
  {
   "cell_type": "markdown",
   "metadata": {},
   "source": [
    "Company: Norfolk and Dedham Group \n",
    "Description:Business Intelligence Analyst\n",
    "[website](https://www.indeed.com/viewjob?jk=a7ced0482ebc8fd4&q=intelligence+analysis&l=Harrisonburg%2C+VA&tk=1d6gmr5nm43ok802&from=web&vjs=3)"
   ]
  },
  {
   "cell_type": "code",
   "execution_count": 6,
   "metadata": {},
   "outputs": [],
   "source": [
    "import xlwt        \n",
    "from collections import Counter        \n",
    "from nltk.corpus import stopwords\n",
    "stop = set(stopwords.words('english'))\n",
    "  \n",
    "book = xlwt.Workbook() # create a new excel file\n",
    "sheet_test = book.add_sheet('word_count') # add a new sheet\n",
    "i = 0\n",
    "sheet_test.write(i,0,'word') # write the header of the first column\n",
    "sheet_test.write(i,1,'count') # write the header of the second column\n",
    "sheet_test.write(i,2,'ratio') # write the header of the third column\n",
    "    \n",
    "with open('job1.txt','r',encoding='utf-8', errors = 'ignore') as text_word: # define the location of your txt file\n",
    "     \n",
    "    # convert all the word into lower cases\n",
    "    # filter out stop words\n",
    "    word_list = [i for i in text_word.read().lower().split() if i not in stop]\n",
    "    word_total = word_list.__len__()\n",
    "     \n",
    "    count_result =  Counter(word_list)\n",
    "    for result in count_result.most_common(10):\n",
    "        i = i+1 \n",
    "        sheet_test.write(i,0,result[0])\n",
    "        sheet_test.write(i,1,result[1])\n",
    "        sheet_test.write(i,2,(result[1]/word_total))\n",
    "    \n",
    "book.save('job1.xls')# define the location of your excel file"
   ]
  },
  {
   "cell_type": "code",
   "execution_count": 7,
   "metadata": {},
   "outputs": [],
   "source": [
    "import xlwt        \n",
    "from collections import Counter        \n",
    "from nltk.corpus import stopwords\n",
    "stop = set(stopwords.words('english'))\n",
    "  \n",
    "book = xlwt.Workbook() # create a new excel file\n",
    "sheet_test = book.add_sheet('word_count') # add a new sheet\n",
    "i = 0\n",
    "sheet_test.write(i,0,'word') # write the header of the first column\n",
    "sheet_test.write(i,1,'count') # write the header of the second column\n",
    "sheet_test.write(i,2,'ratio') # write the header of the third column\n",
    "    \n",
    "with open('job2.txt','r',encoding='utf-8', errors = 'ignore') as text_word: # define the location of your txt file\n",
    "     \n",
    "    # convert all the word into lower cases\n",
    "    # filter out stop words\n",
    "    word_list = [i for i in text_word.read().lower().split() if i not in stop]\n",
    "    word_total = word_list.__len__()\n",
    "     \n",
    "    count_result =  Counter(word_list)\n",
    "    for result in count_result.most_common(10):\n",
    "        i = i+1 \n",
    "        sheet_test.write(i,0,result[0])\n",
    "        sheet_test.write(i,1,result[1])\n",
    "        sheet_test.write(i,2,(result[1]/word_total))\n",
    "    \n",
    "book.save('job2.xls')# define the location of your excel file"
   ]
  },
  {
   "cell_type": "markdown",
   "metadata": {},
   "source": [
    "# Q2"
   ]
  },
  {
   "cell_type": "markdown",
   "metadata": {},
   "source": [
    "<img src='job1.jpg'> "
   ]
  },
  {
   "cell_type": "markdown",
   "metadata": {},
   "source": [
    "<img src='job2.jpg'> "
   ]
  },
  {
   "cell_type": "markdown",
   "metadata": {},
   "source": [
    "# Q3 "
   ]
  },
  {
   "cell_type": "code",
   "execution_count": 14,
   "metadata": {},
   "outputs": [
    {
     "name": "stdout",
     "output_type": "stream",
     "text": [
      "{'Commission', 'government', 'attend', 'Marine', 'weekend', 'its', 'worldwide;', 'Candidate', 'Officer.', 'counterintelligence;', 'anti-submarine,', 'both', 'inner', 'keen', '12-day', 'branches', 'drilling)', 'Upon', 'Reserve', 'duties', 'ship.', 'study', 'Joint', 'moment', 'preferred', 'You', 'be', 'It', 'instruction', 'System', 'currently', 'electronic,', 'Va.,', 'part-time', 'coalition', 'course', '(NAVET):', 'attending', 'colleges', 'Beyond', 'military', 'programs', 'forefront', 'first', 'interpreting', 'Enabling', 'world,', 'youve', 'their', 'physical', 'On', 'satisfies', 'Naval', 'depending', 'special', 'regionally', 'credentialing', 'current', 'you', 'typically', 'defense', 'part', 'serving,', 'national', 'More', 'out', 'annual', 'where', 'Information', 'prior', 'general', 'battlespace', 'A', 'fleet', 'Opportunity', 'mission-sensitive', 'essential', 'Requirements', 'assessment', '(OCS)', 'process', 'dissemination', 'Responsibilities', 'science,', 'must', 'before.', 'learn', 'Servicemembers', 'For', 'Advise', 'available', 'combat', 'each', 'by', 'missions', 'year', 'planning.', 'personnel', 'citizens;', 'executive-level', 'abroad.', 'requirement', 'drilling', 'Pursuing', 'qualifications', 'near-real-time', 'what', 'before', 'wide', 'during', 'about', 'planning,', 'month', 'anti-air,', 'relations,', 'DNS)', 'Serve', 'experience:', 'roles', 'Prior', 'basic', '(referred', 'mishaps', 'reconnaissance', 'All', 'clearance.', 'Lead', 'related', 'Overseeing', 'Reservist,', '(DCO)', 'objective.', 'tour.', 'focuses', 'immigration,', 'training.', 'certifications,', 'crucial', 'either', 'Leading', 'candidates', 'background', 'anti-surface,', 'position', 'role', 'human', 'are', 'School', 'youre', 'institutions', 'Training)', 'strike', 'US', 'Officers', '(SOC', 'Internet', 'pursuing', 'From', 'count', 'international', 'responsibilities', 'College', 'homes.', 'wartime', 'without', 'in:', 'institution', 'Corps', 'intelligence.', 'by:', 'UN', 'multinational', 'do', 'regularly', 'academic', 'who', 'Education', 'assignments,', 'occupational', 'Depending', 'Environment', 'interests,', 'but', 'considered', 'they:', 'Qualifications', 'not', 'In', 'opportunities', '(JPME)', 'competitive', 'unmatched', 'Promotion', 'engineering,', 'ascertain', 'Colleges', 'commitment', 'Planning', 'systems', 'political', 'Navy', 'pose', 'Dominance', 'bases', 'be:', 'Aboard', 'smuggling,', 'training,', 'never', 'Newport,', 'served', 'role.', 'Monitoring', 'Use', 'Conduct', 'close', 'arms', 'Specialists', 'required', 'operations', 'Most', 'as:', 'also', 'threat', 'include:', 'worldwide:', 'education', 'wing', 'need', 'serve', 'receive', 'upon', 'transfers,', 'than', 'this', 'your', 'enemy', 'note', 'assignments', 'installations', 'variety', 'forces', 'five-month', 'Completing', 'Take', 'sanctions', 'command', 'fields', 'initial', 'so', 'fields.', 'Before', 'Participate', 'development,', '30-month', 'such', 'imagery.', 'makers', 'violations', 'facilities', 'four-year', 'collection,', 'board', 'warfare;', 'natural', 'high-level', 'Be', 'deployment', 'former', 'satellite', 'Center', 'Network', 'Its', 'Centers', 'performance,', 'received', 'receiving', 'workings', 'security', 'anywhere', 'Those', 'involves', 'staff', 'government,', 'Degree', 'perceive', 'Training', 'that.', 'mission', 'meet', 'comes', 'through', '(NWC)', 'squadron,', 'Opportunities', 'Training.', 'ships', 'Serving', 'Annual', 'ongoing', 'performance.', 'scheduled', 'weeks', 'air', 'illegal', 'they', 'based', 'professional', 'operational', 'required)', 'completion,', 'home', 'assignment', 'accredited', 'credentials', 'drilling,', 'gained', 'important', 'War', 'Professional', 'INTEL', 'vary', 'collection', 'testing', 'abilities', 'equivalent', 'adversaries', 'one', 'R.I.', 'analysis;', 'Enlisted', 'go', 'chatter.', 'Postgraduate', '(NPS)', 'General', 'specialized', 'Delivering', 'maritime', 'can', 'aviation', 'Supervise', 'advance', 'implications', 'During', 'eligible', 'support', 'again.', 'amphibious', 'Military', 'training', 'more', 'Sailors', 'latest', 'critical', 'decision', 'take', 'security,', 'managing', 'carried', 'may', 'targets', '(OSVET),', 'activities', 'intelligence;', 'Direct', 'whether', 'two', 'aircraft', 'location', 'met.', 'computer', 'spy', 'embark', 'convert', 'minimum', 'carrier', 'analyzing', 'drug', 'leadership', 'Neck,', 'there,', 'Advancement', 'job,', 'Dam', 'patterns', 'Provide', '(no', 'periods.', 'areas', 'About', 'experts', 'top-secret', 'environmental', 'willing', 'aboard', 'Reservists.'}\n",
      "{'businesses', 'Strong', 'field', 'optional', 'SQL,', 'organization', 'to:', 'Power', 'indicators', 'locally', 'manner', 'Insurance', 'trends.', 'reports', 'investigate', 'alerts,', 'top', 'deliver', 'insights', 'tasks/projects', 'designations', 'leaders.', 'Ability', 'lines.', 'management', 'productive', 'forms', 'recommendations', 'initiatives', 'sources.', 'local', 'Under', 'reporting.', 'warehouse', 'quarterly', 'attention', 'Exempt', 'new', 'shape', 'risks,', 'updates,', 'displaying', 'dashboards', 'grown', 'Tableau,', 'CPCU)', 'proficiency', '(KPI),', 'understand', 'homeowners,', 'years', 'SAS,', 'platform', 'At', 'Works', 'know', 'go-forward', 'sources', 'internal', 'detail', 'end', 'decision-making', 'supervision', 'requirements,', 'profitability', 'impact', 'across', 'Delivers', 'proven', 'drawing', 'ability', 'right', 'Excel,', 'business,', 'create', 'effectively', 'news', 'strategies', 'users', 'trends', 'since', 'region,', 'tool,', 'quantitative', 'skills', 'personalized', 'Underwriting', 'economics,', 'use', 'PowerPoint,', 'maintain', 'including', 'people', 'technical', 'analysis,', 'published', 'document', 'peers', 'industry', 'enhancements.', 'N&D', 'Broad', 'effective', 'external', 'user', 'Responsibilities:', 'planned', 'software', 'advanced', 'proactively', 'coverage.', 'Reports', 'design,', 'stay', 'concepts', 'translating', 'filings,', 'business', 'Toad,', 'organization.', '1825.', 'Experience', 'tactical', 'handle', 'Educate', 'Analyzes', 'determine', 'establish', 'Product', 'aimed', 'tools.', 'content', 'timeframes.', 'working', 'Based', 'priorities,', 'competitor', 'relationships', 'within', '(such', 'driven', 'decisions.', '2-4', 'responsible', 'performance', 'actuarial', 'BI).', 'according', 'modeling', 'insurance', 'Business', 'present', 'covering', 'verbal', 'define', 'competitiveness', 'Essbase,', 'interpersonal', 'Analyst', 'recommendations.', 'skills,', 'environment.', 'train', 'Builds', 'non-technical', 'BI', 'Analytics', 'development', 'growth', 'Qualifications:', 'make', 'independently', 'includes', 'management,', 'marketing', 'dashboards,', 'policies', 'provides', '(e.g.,', 'Crystal', 'Status:', 'best', 'facilitates', 'monitors', 'Research', 'potential', 'communication', 'Chief', 'drivers,', 'problem-solving', 'maintains', 'multiple', 'visualization', 'reporting', 'strategy.', 'Group,', 'preferred,', 'relevant', 'written', 'counterparts', 'progressive', 'improving', 'overarching', 'product', 'Collaborate', 'individuals', 'data', 'been', 'outside', 'simultaneously.', \"Bachelor's\", 'company,', 'partners', 'Closely', 'exploration.', 'assesses', 'practices.', 'analysis/visualization', 'we', 'common', 'Reports,', 'multi-cultural'}\n"
     ]
    }
   ],
   "source": [
    "\n",
    "with open('job1.txt','r',encoding='utf-8', errors = 'ignore') as job1: # define the location of your txt file\n",
    "    with open('job2.txt','r',encoding='utf-8', errors = 'ignore') as job2: # define the location of your txt file\n",
    "        job1_str = (job1.read())\n",
    "        job2_str = (job2.read())\n",
    "        \n",
    "        job1_set = set(job1_str.split())\n",
    "        job2_set = set(job2_str.split())\n",
    "        \n",
    "        print(job1_set.difference(job2_set))\n",
    "        print(job2_set.difference(job1_set))"
   ]
  },
  {
   "cell_type": "markdown",
   "metadata": {},
   "source": [
    "# Q4"
   ]
  },
  {
   "cell_type": "code",
   "execution_count": 15,
   "metadata": {},
   "outputs": [
    {
     "name": "stdout",
     "output_type": "stream",
     "text": [
      "1\n"
     ]
    }
   ],
   "source": [
    "from fuzzywuzzy import fuzz\n",
    "with open('job1.txt','r',encoding='utf-8', errors = 'ignore') as job1: # define the location of your txt file\n",
    "    with open('job2.txt','r',encoding='utf-8', errors = 'ignore') as job2: # define the location of your txt file\n",
    "        job1_str = (job1.read())\n",
    "        job2_str = (job2.read())\n",
    "        print(fuzz.token_sort_ratio(job1_str,job2_str))\n",
    "        \n",
    "        #job1_set = set(job1_str.split())\n",
    "        #job2_set = set(job2_str.split())\n",
    "        \n",
    "        #print(job1_set.difference(job2_set))\n",
    "        #print(job2_set.difference(job1_set))"
   ]
  },
  {
   "cell_type": "code",
   "execution_count": null,
   "metadata": {},
   "outputs": [],
   "source": []
  }
 ],
 "metadata": {
  "kernelspec": {
   "display_name": "Python 3",
   "language": "python",
   "name": "python3"
  },
  "language_info": {
   "codemirror_mode": {
    "name": "ipython",
    "version": 3
   },
   "file_extension": ".py",
   "mimetype": "text/x-python",
   "name": "python",
   "nbconvert_exporter": "python",
   "pygments_lexer": "ipython3",
   "version": "3.6.5"
  }
 },
 "nbformat": 4,
 "nbformat_minor": 2
}
